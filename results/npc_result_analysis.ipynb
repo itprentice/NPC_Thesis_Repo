{
 "cells": [
  {
   "cell_type": "code",
   "execution_count": 31,
   "metadata": {},
   "outputs": [],
   "source": [
    "import pandas as pd\n",
    "import numpy as np\n",
    "import matplotlib.pyplot as plt"
   ]
  },
  {
   "cell_type": "code",
   "execution_count": 37,
   "metadata": {},
   "outputs": [],
   "source": [
    "def analysis(choices, times, name, options=None):\n",
    "    print(name)\n",
    "    print('variance: ' + str(np.var(choices)))\n",
    "    if (options is None):\n",
    "        options = np.unique(choices)\n",
    "    occurrences = np.zeros_like(options)\n",
    "    for i, o in enumerate(options):\n",
    "        occurrences[i] = np.sum(choices == o)\n",
    "        print('option '+str(o)+' picked ' + str(occurrences[i]) + ' times')\n",
    "\n",
    "    print('inference time avg: '+str(np.mean(times)) + ' seconds')\n",
    "    plt.title(name)\n",
    "    plt.bar(options.astype(str), occurrences)\n",
    "    plt.xlabel('option')\n",
    "    plt.show()\n",
    "    plt.close()"
   ]
  },
  {
   "cell_type": "code",
   "execution_count": 33,
   "metadata": {},
   "outputs": [
    {
     "name": "stdout",
     "output_type": "stream",
     "text": [
      "   option                                          reasoning  time (seconds)\n",
      "0       2   It is more ethical to pull the lever and dive...        1.086074\n",
      "1       2   Pulling the lever to divert the trolley onto ...        1.274518\n",
      "2       1   It is more ethical to do nothing in this scen...        1.251512\n",
      "3       2   Pulling the lever to divert the trolley onto ...        0.923067\n",
      "4       2   Pulling the lever to divert the trolley onto ...        0.803396\n"
     ]
    }
   ],
   "source": [
    "gpt_35_base_df = pd.read_csv('results_gpt35turbo_base.csv')\n",
    "gpt_35_crim_df = pd.read_csv('results_gpt35turbo_5crim1doc.csv')\n",
    "\n",
    "\n",
    "gpt4_base_df = pd.read_csv('results_gpt4_base.csv')\n",
    "gpt4_crim_bf = pd.read_csv('results_gpt4_5crim1doc.csv')\n",
    "\n",
    "print(gpt_35_base_df.head())"
   ]
  },
  {
   "cell_type": "code",
   "execution_count": 34,
   "metadata": {},
   "outputs": [
    {
     "name": "stdout",
     "output_type": "stream",
     "text": [
      "gpt-3.5-turbo base scenario\n",
      "variance: 0.10560000000000003\n",
      "option 1 picked 12 times\n",
      "option 2 picked 88 times\n",
      "inference time avg: 1.343888743 seconds\n"
     ]
    },
    {
     "data": {
      "image/png": "[encoded data removed]",
      "text/plain": [
       "<Figure size 432x288 with 1 Axes>"
      ]
     },
     "metadata": {
      "needs_background": "light"
     },
     "output_type": "display_data"
    }
   ],
   "source": [
    "analysis(gpt_35_base_df['option'], gpt_35_base_df['time (seconds)'], 'gpt-3.5-turbo base scenario')"
   ]
  },
  {
   "cell_type": "code",
   "execution_count": 38,
   "metadata": {},
   "outputs": [
    {
     "name": "stdout",
     "output_type": "stream",
     "text": [
      "gpt-4 base scenario\n",
      "variance: 0.0\n",
      "option 1 picked 0 times\n",
      "option 2 picked 100 times\n",
      "inference time avg: 2.89837035 seconds\n"
     ]
    },
    {
     "data": {
      "image/png": "[encoded data removed]",
      "text/plain": [
       "<Figure size 432x288 with 1 Axes>"
      ]
     },
     "metadata": {
      "needs_background": "light"
     },
     "output_type": "display_data"
    }
   ],
   "source": [
    "analysis(gpt4_base_df['option'], gpt4_base_df['time (seconds)'], 'gpt-4 base scenario', options=np.array([1, 2])) # manually set options since option 1 is never chosen"
   ]
  },
  {
   "cell_type": "code",
   "execution_count": 39,
   "metadata": {},
   "outputs": [
    {
     "name": "stdout",
     "output_type": "stream",
     "text": [
      "gpt-3.5-turbo 5 criminals, 1 doctor scenario\n",
      "variance: 0.20999999999999994\n",
      "option 1 picked 30 times\n",
      "option 2 picked 70 times\n",
      "inference time avg: 1.3405893839999998 seconds\n"
     ]
    },
    {
     "data": {
      "image/png": "[encoded data removed]",
      "text/plain": [
       "<Figure size 432x288 with 1 Axes>"
      ]
     },
     "metadata": {
      "needs_background": "light"
     },
     "output_type": "display_data"
    }
   ],
   "source": [
    "analysis(gpt_35_crim_df['option'], gpt_35_crim_df['time (seconds)'], 'gpt-3.5-turbo 5 criminals, 1 doctor scenario')"
   ]
  },
  {
   "cell_type": "code",
   "execution_count": 40,
   "metadata": {},
   "outputs": [
    {
     "name": "stdout",
     "output_type": "stream",
     "text": [
      "gpt-4 5 criminals, 1 doctor scenario\n",
      "variance: 0.16\n",
      "option 1 picked 80 times\n",
      "option 2 picked 20 times\n",
      "inference time avg: 4.33047499 seconds\n"
     ]
    },
    {
     "data": {
      "image/png": "[encoded data removed]",
      "text/plain": [
       "<Figure size 432x288 with 1 Axes>"
      ]
     },
     "metadata": {
      "needs_background": "light"
     },
     "output_type": "display_data"
    }
   ],
   "source": [
    "analysis(gpt4_crim_bf['option'], gpt4_crim_bf['time (seconds)'], 'gpt-4 5 criminals, 1 doctor scenario')"
   ]
  },
  {
   "cell_type": "code",
   "execution_count": null,
   "metadata": {},
   "outputs": [],
   "source": []
  }
 ],
 "metadata": {
  "kernelspec": {
   "display_name": "Python 3",
   "language": "python",
   "name": "python3"
  },
  "language_info": {
   "codemirror_mode": {
    "name": "ipython",
    "version": 3
   },
   "file_extension": ".py",
   "mimetype": "text/x-python",
   "name": "python",
   "nbconvert_exporter": "python",
   "pygments_lexer": "ipython3",
   "version": "3.9.6"
  }
 },
 "nbformat": 4,
 "nbformat_minor": 2
}
